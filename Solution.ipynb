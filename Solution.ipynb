{
 "cells": [
  {
   "cell_type": "markdown",
   "metadata": {},
   "source": [
    "### Descrição do problema - Kaggle\n",
    "\n",
    "The data comes from Austin Animal Center from October 1st, 2013 to March, 2016. Outcomes represent the status of animals as they leave the Animal Center. All animals receive a unique Animal ID during intake. \n",
    "\n",
    "In this competition, you are going to predict the outcome of the animal as they leave the Animal Center. These outcomes include: Adoption, Died, Euthanasia, Return to owner, and Transfer. \n",
    "\n",
    "The train and test data are randomly split. "
   ]
  },
  {
   "cell_type": "markdown",
   "metadata": {},
   "source": [
    "O objetivo deste projeto é determinar o destino de animais que chegam em abrigos nos EUA.\n",
    "\n",
    "As previsões feitas com o modelo criado aqui atingiram um score de 0.80296 no Kaggle."
   ]
  },
  {
   "cell_type": "markdown",
   "metadata": {},
   "source": [
    "### Importação das bibliotecas"
   ]
  },
  {
   "cell_type": "code",
   "execution_count": 1,
   "metadata": {},
   "outputs": [],
   "source": [
    "import pandas as pd\n",
    "import numpy as np\n",
    "import seaborn as sns\n",
    "from scipy import stats\n",
    "stats.chisqprob = lambda chisq, df: stats.chi2.sf(chisq, df)\n",
    "import matplotlib.pyplot as plt\n",
    "from sklearn.utils import shuffle\n",
    "from sklearn.model_selection import train_test_split\n",
    "from sklearn.metrics import roc_auc_score\n",
    "from sklearn.metrics import roc_curve, precision_recall_curve\n",
    "from sklearn.metrics import accuracy_score, auc\n",
    "from sklearn.metrics import classification_report,confusion_matrix\n",
    "from sklearn.linear_model import LogisticRegression\n",
    "from sklearn import metrics\n",
    "from sklearn.ensemble import RandomForestClassifier\n",
    "from sklearn.calibration import CalibratedClassifierCV, calibration_curve\n",
    "from sklearn.linear_model import SGDClassifier\n",
    "from sklearn.ensemble import GradientBoostingClassifier\n",
    "import datetime\n",
    "from sklearn import preprocessing\n",
    "from sklearn.model_selection import KFold, cross_val_score, cross_val_predict\n",
    "from sklearn.metrics import mean_squared_error\n",
    "from sklearn.preprocessing import OneHotEncoder\n",
    "import xgboost as xgb\n",
    "from xgboost.sklearn import XGBClassifier\n",
    "from sklearn.metrics import log_loss\n",
    "from sklearn.metrics import silhouette_score\n",
    "from sklearn.cluster import KMeans"
   ]
  },
  {
   "cell_type": "markdown",
   "metadata": {},
   "source": [
    "### Importação dos dados"
   ]
  },
  {
   "cell_type": "code",
   "execution_count": 2,
   "metadata": {},
   "outputs": [],
   "source": [
    "raw_data=pd.read_csv('train.csv')"
   ]
  },
  {
   "cell_type": "code",
   "execution_count": 3,
   "metadata": {},
   "outputs": [
    {
     "data": {
      "text/html": [
       "<div>\n",
       "<style scoped>\n",
       "    .dataframe tbody tr th:only-of-type {\n",
       "        vertical-align: middle;\n",
       "    }\n",
       "\n",
       "    .dataframe tbody tr th {\n",
       "        vertical-align: top;\n",
       "    }\n",
       "\n",
       "    .dataframe thead th {\n",
       "        text-align: right;\n",
       "    }\n",
       "</style>\n",
       "<table border=\"1\" class=\"dataframe\">\n",
       "  <thead>\n",
       "    <tr style=\"text-align: right;\">\n",
       "      <th></th>\n",
       "      <th>AnimalID</th>\n",
       "      <th>Name</th>\n",
       "      <th>DateTime</th>\n",
       "      <th>OutcomeType</th>\n",
       "      <th>OutcomeSubtype</th>\n",
       "      <th>AnimalType</th>\n",
       "      <th>SexuponOutcome</th>\n",
       "      <th>AgeuponOutcome</th>\n",
       "      <th>Breed</th>\n",
       "      <th>Color</th>\n",
       "    </tr>\n",
       "  </thead>\n",
       "  <tbody>\n",
       "    <tr>\n",
       "      <th>0</th>\n",
       "      <td>A671945</td>\n",
       "      <td>Hambone</td>\n",
       "      <td>2014-02-12 18:22:00</td>\n",
       "      <td>Return_to_owner</td>\n",
       "      <td>NaN</td>\n",
       "      <td>Dog</td>\n",
       "      <td>Neutered Male</td>\n",
       "      <td>1 year</td>\n",
       "      <td>Shetland Sheepdog Mix</td>\n",
       "      <td>Brown/White</td>\n",
       "    </tr>\n",
       "    <tr>\n",
       "      <th>1</th>\n",
       "      <td>A656520</td>\n",
       "      <td>Emily</td>\n",
       "      <td>2013-10-13 12:44:00</td>\n",
       "      <td>Euthanasia</td>\n",
       "      <td>Suffering</td>\n",
       "      <td>Cat</td>\n",
       "      <td>Spayed Female</td>\n",
       "      <td>1 year</td>\n",
       "      <td>Domestic Shorthair Mix</td>\n",
       "      <td>Cream Tabby</td>\n",
       "    </tr>\n",
       "    <tr>\n",
       "      <th>2</th>\n",
       "      <td>A686464</td>\n",
       "      <td>Pearce</td>\n",
       "      <td>2015-01-31 12:28:00</td>\n",
       "      <td>Adoption</td>\n",
       "      <td>Foster</td>\n",
       "      <td>Dog</td>\n",
       "      <td>Neutered Male</td>\n",
       "      <td>2 years</td>\n",
       "      <td>Pit Bull Mix</td>\n",
       "      <td>Blue/White</td>\n",
       "    </tr>\n",
       "    <tr>\n",
       "      <th>3</th>\n",
       "      <td>A683430</td>\n",
       "      <td>NaN</td>\n",
       "      <td>2014-07-11 19:09:00</td>\n",
       "      <td>Transfer</td>\n",
       "      <td>Partner</td>\n",
       "      <td>Cat</td>\n",
       "      <td>Intact Male</td>\n",
       "      <td>3 weeks</td>\n",
       "      <td>Domestic Shorthair Mix</td>\n",
       "      <td>Blue Cream</td>\n",
       "    </tr>\n",
       "    <tr>\n",
       "      <th>4</th>\n",
       "      <td>A667013</td>\n",
       "      <td>NaN</td>\n",
       "      <td>2013-11-15 12:52:00</td>\n",
       "      <td>Transfer</td>\n",
       "      <td>Partner</td>\n",
       "      <td>Dog</td>\n",
       "      <td>Neutered Male</td>\n",
       "      <td>2 years</td>\n",
       "      <td>Lhasa Apso/Miniature Poodle</td>\n",
       "      <td>Tan</td>\n",
       "    </tr>\n",
       "  </tbody>\n",
       "</table>\n",
       "</div>"
      ],
      "text/plain": [
       "  AnimalID     Name             DateTime      OutcomeType OutcomeSubtype  \\\n",
       "0  A671945  Hambone  2014-02-12 18:22:00  Return_to_owner            NaN   \n",
       "1  A656520    Emily  2013-10-13 12:44:00       Euthanasia      Suffering   \n",
       "2  A686464   Pearce  2015-01-31 12:28:00         Adoption         Foster   \n",
       "3  A683430      NaN  2014-07-11 19:09:00         Transfer        Partner   \n",
       "4  A667013      NaN  2013-11-15 12:52:00         Transfer        Partner   \n",
       "\n",
       "  AnimalType SexuponOutcome AgeuponOutcome                        Breed  \\\n",
       "0        Dog  Neutered Male         1 year        Shetland Sheepdog Mix   \n",
       "1        Cat  Spayed Female         1 year       Domestic Shorthair Mix   \n",
       "2        Dog  Neutered Male        2 years                 Pit Bull Mix   \n",
       "3        Cat    Intact Male        3 weeks       Domestic Shorthair Mix   \n",
       "4        Dog  Neutered Male        2 years  Lhasa Apso/Miniature Poodle   \n",
       "\n",
       "         Color  \n",
       "0  Brown/White  \n",
       "1  Cream Tabby  \n",
       "2   Blue/White  \n",
       "3   Blue Cream  \n",
       "4          Tan  "
      ]
     },
     "execution_count": 3,
     "metadata": {},
     "output_type": "execute_result"
    }
   ],
   "source": [
    "raw_data.head()"
   ]
  },
  {
   "cell_type": "code",
   "execution_count": 4,
   "metadata": {},
   "outputs": [
    {
     "data": {
      "text/plain": [
       "AnimalID              0\n",
       "Name               7691\n",
       "DateTime              0\n",
       "OutcomeType           0\n",
       "OutcomeSubtype    13612\n",
       "AnimalType            0\n",
       "SexuponOutcome        1\n",
       "AgeuponOutcome       18\n",
       "Breed                 0\n",
       "Color                 0\n",
       "dtype: int64"
      ]
     },
     "execution_count": 4,
     "metadata": {},
     "output_type": "execute_result"
    }
   ],
   "source": [
    "df=raw_data.copy()\n",
    "df.isnull().sum()"
   ]
  },
  {
   "cell_type": "markdown",
   "metadata": {},
   "source": [
    "### Tratamento das variáveis categóricas"
   ]
  },
  {
   "cell_type": "markdown",
   "metadata": {},
   "source": [
    "Inicialmente vamos tratar a variável AgeuponOutcome. Todos os valores serão convertidos para anos."
   ]
  },
  {
   "cell_type": "code",
   "execution_count": 5,
   "metadata": {},
   "outputs": [],
   "source": [
    "# Identificar o número e se ele está em dias, anos, semanas, meses ou anos.\n",
    "\n",
    "ages=[]\n",
    "\n",
    "for n in range(len(df)):\n",
    "    value=str(df['AgeuponOutcome'][n])\n",
    "    age = float(value.split()[0])\n",
    "    if value.find('year') != -1:\n",
    "        ages.append(age)\n",
    "    elif value.find('month') != -1:\n",
    "        ages.append(age/12)\n",
    "    elif value.find('week') != -1:\n",
    "        ages.append(age/52)     \n",
    "    elif value.find('day') != -1:\n",
    "        ages.append(age/365)\n",
    "    else:     \n",
    "        ages.append(0)\n",
    "        \n",
    "df['AgeInYears']=ages "
   ]
  },
  {
   "cell_type": "markdown",
   "metadata": {},
   "source": [
    "A seguir, trataremos a variável SexuponOutcome como no caso anterior. Contudo, criaremos duas colunas, uma para indicar o sexo e outra para indicar se o animal é castrado: Male/Female e (Neutered/Spayed)/Intact"
   ]
  },
  {
   "cell_type": "code",
   "execution_count": 6,
   "metadata": {},
   "outputs": [],
   "source": [
    "gender=[]\n",
    "condition=[]\n",
    "\n",
    "for n in range(len(df)):\n",
    "    value=str(df['SexuponOutcome'][n])\n",
    "    if value.find('Neutered') != -1 or value.find('Spayed') != -1 and value.find('Male') != -1:\n",
    "        gender.append('Male')\n",
    "        condition.append('Neutered')\n",
    "    elif value.find('Neutered') != -1 or value.find('Spayed') != -1 and value.find('Female') != -1:\n",
    "        gender.append('Female')\n",
    "        condition.append('Neutered')\n",
    "    elif value.find('Intact') != -1 and value.find('Male') != -1:\n",
    "        gender.append('Male')\n",
    "        condition.append('Intact')\n",
    "    elif value.find('Intact') != -1 and value.find('Female') != -1:\n",
    "        gender.append('Female')\n",
    "        condition.append('Intact')    \n",
    "    else:     \n",
    "        gender.append('Unknown')\n",
    "        condition.append('Unknown')\n",
    "        \n",
    "df['Gender']=gender\n",
    "df['Condition']=condition"
   ]
  },
  {
   "cell_type": "markdown",
   "metadata": {},
   "source": [
    "Para tratar a coluna Breed, vamos definir apenas raças puras ou cães SRD, ou seja mix."
   ]
  },
  {
   "cell_type": "code",
   "execution_count": 7,
   "metadata": {},
   "outputs": [],
   "source": [
    "breed=[]\n",
    "\n",
    "for n in range(len(df)):\n",
    "    value=str(df['Breed'][n])\n",
    "    if value.find('Mix') != -1 or value.find('/') != -1:\n",
    "        breed.append('Mix')   \n",
    "    else:     \n",
    "        breed.append(value)\n",
    "        \n",
    "df['Breeds']=breed"
   ]
  },
  {
   "cell_type": "markdown",
   "metadata": {},
   "source": [
    "Para tratar a coluna Color, vamos considerar cães com mais de uma cor como mix e cães com cores únicas."
   ]
  },
  {
   "cell_type": "code",
   "execution_count": 8,
   "metadata": {},
   "outputs": [],
   "source": [
    "color=[]\n",
    "\n",
    "for n in range(len(df)):\n",
    "    value=str(df['Color'][n])\n",
    "    if value.find('and') != -1 or value.find('/') != -1:\n",
    "        color.append('Mix')   \n",
    "    else:     \n",
    "        color.append(value)\n",
    "        \n",
    "df['Colors']=color"
   ]
  },
  {
   "cell_type": "markdown",
   "metadata": {},
   "source": [
    "A seguir, vamos separar a informação contida na coluna Breed em duas novas colunas. O objetivo desta manipulação é analisar e calssificar quais raças apresentam agressividade ou problemas comportamentais."
   ]
  },
  {
   "cell_type": "code",
   "execution_count": 9,
   "metadata": {},
   "outputs": [],
   "source": [
    "# Criaremos duas colunas, uma para cada raça da coluna Breed.  \n",
    "breed1=[]\n",
    "breed2=[]\n",
    "mix=[]\n",
    "for n  in range(len(df)):\n",
    "    value=str(df['Breed'][n])\n",
    "    if value.find('/') != -1:\n",
    "        breed1.append(df['Breed'][n].split('/')[0])\n",
    "        breed2.append(df['Breed'][n].split('/')[1])\n",
    "    elif value.find('Mix') != -1:\n",
    "        breed1.append(df['Breed'][n].split('Mix')[0])\n",
    "        breed2.append('Mix')\n",
    "    else:\n",
    "        breed1.append(value)\n",
    "        breed2.append(\"\")\n",
    "df['Breed_1']=breed1 \n",
    "df['Breed_2']=breed2        "
   ]
  },
  {
   "cell_type": "code",
   "execution_count": 10,
   "metadata": {},
   "outputs": [],
   "source": [
    "# Criaremos uma lista que armazenará as raças que apresentaram problemas de agressividade e outra para problemas\n",
    "# comportamentais\n",
    "agressivo=[]\n",
    "for n  in range(len(df)):\n",
    "    if df['OutcomeSubtype'][n]=='Aggressive' and df['Breed_1'][n]!='Mix' and df['Breed_1'][n] not in agressivo:\n",
    "        agressivo.append(str(df['Breed_1'][n]))\n",
    "        if df['Breed_2'][n]!='Mix' and df['Breed_2'][n] not in agressivo:\n",
    "            agressivo.append(str(df['Breed_2'][n]))\n",
    "\n",
    "comportamento=[]\n",
    "for n  in range(len(df)):\n",
    "    if df['OutcomeSubtype'][n]=='Behavior' and df['Breed_1'][n]!='Mix' and df['Breed_1'][n] not in comportamento:\n",
    "        comportamento.append(str(df['Breed_1'][n]))\n",
    "        if df['Breed_2'][n]!='Mix' and df['Breed_2'][n] not in comportamento:\n",
    "            comportamento.append(str(df['Breed_2'][n]))            \n",
    "        "
   ]
  },
  {
   "cell_type": "code",
   "execution_count": 11,
   "metadata": {},
   "outputs": [],
   "source": [
    "# Buscaremos para cada raça no nosso dataset se a raça apresenta ou não problemas de agressividade ou comportamental\n",
    "# se a raça estiver na lista criada anteriormente, \n",
    "#classificaremos o animal com possível problema de agressividade ou comportamental\n",
    "\n",
    "agressividade=[]\n",
    "for n in range(len(df)):\n",
    "    if df['Breed_1'][n]  in agressivo or df['Breed_2'][n]  in agressivo:\n",
    "        agressividade.append(1)\n",
    "    else:\n",
    "        agressividade.append(0)\n",
    "        \n",
    "comportamental=[]\n",
    "for n in range(len(df)):\n",
    "    if df['Breed_1'][n]  in comportamento or df['Breed_2'][n]  in comportamento:\n",
    "        comportamental.append(1)\n",
    "    else:\n",
    "        comportamental.append(0)        \n",
    "        \n",
    "df['Agressivo']=agressividade \n",
    "df['Comportamental']=comportamental         "
   ]
  },
  {
   "cell_type": "markdown",
   "metadata": {},
   "source": [
    "### Tratamento das variáveis datetime"
   ]
  },
  {
   "cell_type": "markdown",
   "metadata": {},
   "source": [
    "Agora trataremos a coluna DateTime. Vamos separar em colunas diferentes que contém a data, mês, dia da semana e a hora do dia."
   ]
  },
  {
   "cell_type": "code",
   "execution_count": 12,
   "metadata": {},
   "outputs": [],
   "source": [
    "datetime=pd.to_datetime(pd.Series(df['DateTime']))\n",
    "df['year']=datetime.dt.year\n",
    "df['month']=datetime.dt.month\n",
    "df['day_week']=datetime.dt.day_name()\n",
    "df['hour']=datetime.dt.hour"
   ]
  },
  {
   "cell_type": "code",
   "execution_count": 13,
   "metadata": {},
   "outputs": [],
   "source": [
    "# Criaremos uma coluna para cada intervalo de horários, com início as 8 da manhã e duração de 3 horas.\n",
    "\n",
    "horario=[]\n",
    "\n",
    "for n in range(len(df)):\n",
    "    i=df['hour'][n]\n",
    "    if 8<=i<=10:\n",
    "        horario.append(1)\n",
    "    elif 11<=i<=13:\n",
    "        horario.append(2)\n",
    "    elif 14<=i<=16:\n",
    "        horario.append(3)\n",
    "    elif 16<=i<=18:\n",
    "        horario.append(4)\n",
    "    else:\n",
    "        horario.append(5)\n",
    "df['horario']=horario        "
   ]
  },
  {
   "cell_type": "code",
   "execution_count": 14,
   "metadata": {},
   "outputs": [],
   "source": [
    "# Criaremos colunas para indicar a estação do ano e período de férias (do calendário americano).\n",
    "estacao=[]\n",
    "ferias=[]\n",
    "weekend=[]\n",
    "\n",
    "for n in range(len(df)):\n",
    "    i=df['month'][n]\n",
    "    if 6<=i<=8 or i==12 or i==11:\n",
    "        ferias.append(1)\n",
    "    else:\n",
    "        ferias.append(0)\n",
    "        \n",
    "        \n",
    "for n in range(len(df)):\n",
    "    i=df['month'][n]\n",
    "    if 3<=i<=6:\n",
    "        estacao.append(1)\n",
    "    elif 7<=i<=9:\n",
    "        estacao.append(2)\n",
    "    elif 9<=i<=12:\n",
    "        estacao.append(3)\n",
    "    elif 1<=i<=3:\n",
    "        estacao.append(4)\n",
    "# Criaremos uma coluna para indicar se é fim de semana\n",
    "\n",
    "for n in range(len(df)):\n",
    "    i=df['day_week'][n]\n",
    "    if i=='Sunday' or i=='Saturday':\n",
    "        weekend.append(1)\n",
    "    else:\n",
    "        weekend.append(0)        \n",
    "        \n",
    "df['weekend']=weekend        \n",
    "df['estacao']=estacao \n",
    "df['hollidays']=ferias"
   ]
  },
  {
   "cell_type": "code",
   "execution_count": 15,
   "metadata": {},
   "outputs": [],
   "source": [
    "# Removeremos as variáveis que não serão mais utilizadas\n",
    "df=df.drop(['AnimalID','Name','Color','DateTime','Colors','Breeds',\n",
    "            'AgeuponOutcome','SexuponOutcome','Breed','Breed_1','Breed_2'],1)"
   ]
  },
  {
   "cell_type": "markdown",
   "metadata": {},
   "source": [
    "Utilizaremos a partir de agora o dataframe data."
   ]
  },
  {
   "cell_type": "code",
   "execution_count": 16,
   "metadata": {},
   "outputs": [],
   "source": [
    "data=df.copy()"
   ]
  },
  {
   "cell_type": "markdown",
   "metadata": {},
   "source": [
    "### Análise Exploratória"
   ]
  },
  {
   "cell_type": "markdown",
   "metadata": {},
   "source": [
    "Vamos iniciar uma análise exploratória geral nos nossos dados."
   ]
  },
  {
   "cell_type": "code",
   "execution_count": 17,
   "metadata": {
    "scrolled": true
   },
   "outputs": [
    {
     "data": {
      "text/plain": [
       "<matplotlib.axes._subplots.AxesSubplot at 0xb187858d0>"
      ]
     },
     "execution_count": 17,
     "metadata": {},
     "output_type": "execute_result"
    },
    {
     "data": {
      "image/png": "[encoded data removed]",
      "text/plain": [
       "<Figure size 504x360 with 1 Axes>"
      ]
     },
     "metadata": {
      "needs_background": "light"
     },
     "output_type": "display_data"
    }
   ],
   "source": [
    "plt.figure(figsize=(7,5))\n",
    "sns.countplot(df['OutcomeType'], palette='rainbow')"
   ]
  },
  {
   "cell_type": "code",
   "execution_count": 18,
   "metadata": {},
   "outputs": [
    {
     "data": {
      "text/plain": [
       "<matplotlib.axes._subplots.AxesSubplot at 0x1a1cc136d0>"
      ]
     },
     "execution_count": 18,
     "metadata": {},
     "output_type": "execute_result"
    },
    {
     "data": {
      "image/png": "[encoded data removed]",
      "text/plain": [
       "<Figure size 720x504 with 1 Axes>"
      ]
     },
     "metadata": {
      "needs_background": "light"
     },
     "output_type": "display_data"
    }
   ],
   "source": [
    "plt.figure(figsize=(10,7))\n",
    "sns.countplot(y=df['OutcomeSubtype'], palette='rainbow')"
   ]
  },
  {
   "cell_type": "code",
   "execution_count": 19,
   "metadata": {},
   "outputs": [
    {
     "data": {
      "text/plain": [
       "<matplotlib.axes._subplots.AxesSubplot at 0x1a1c542a50>"
      ]
     },
     "execution_count": 19,
     "metadata": {},
     "output_type": "execute_result"
    },
    {
     "data": {
      "image/png": "[encoded data removed]",
      "text/plain": [
       "<Figure size 1008x432 with 2 Axes>"
      ]
     },
     "metadata": {
      "needs_background": "light"
     },
     "output_type": "display_data"
    }
   ],
   "source": [
    "fig, ax = plt.subplots(nrows = 1, ncols = 2, figsize = (14, 6))\n",
    "\n",
    "sns.countplot(df['AnimalType'], palette='rainbow',ax = ax[0])\n",
    "   \n",
    "sns.countplot(df['AnimalType'],hue=df['Gender'], palette='rainbow',ax = ax[1])\n"
   ]
  },
  {
   "cell_type": "code",
   "execution_count": 20,
   "metadata": {},
   "outputs": [
    {
     "data": {
      "text/plain": [
       "(58.34486886901867, 41.65513113098133)"
      ]
     },
     "execution_count": 20,
     "metadata": {},
     "output_type": "execute_result"
    }
   ],
   "source": [
    "len(df[df['AnimalType']=='Dog'])*100/len(df),len(df[df['AnimalType']=='Cat'])*100/len(df)"
   ]
  },
  {
   "cell_type": "markdown",
   "metadata": {},
   "source": [
    "A porcentagem de cães é de 58% e gatos de 42%. No gráfico da direita observamos os tipos de animais separados por sexo."
   ]
  },
  {
   "cell_type": "code",
   "execution_count": 21,
   "metadata": {},
   "outputs": [
    {
     "data": {
      "text/plain": [
       "<matplotlib.axes._subplots.AxesSubplot at 0x1a1c9ce790>"
      ]
     },
     "execution_count": 21,
     "metadata": {},
     "output_type": "execute_result"
    },
    {
     "data": {
      "image/png": "[encoded data removed]",
      "text/plain": [
       "<Figure size 1008x432 with 2 Axes>"
      ]
     },
     "metadata": {
      "needs_background": "light"
     },
     "output_type": "display_data"
    }
   ],
   "source": [
    "fig, ax = plt.subplots(nrows = 1, ncols = 2, figsize = (14, 6))\n",
    "\n",
    "sns.countplot(df['Gender'], palette='rainbow',ax = ax[0])\n",
    "   \n",
    "sns.countplot(df['Condition'], hue=df['Gender'], palette='rainbow',ax = ax[1])"
   ]
  },
  {
   "cell_type": "code",
   "execution_count": 22,
   "metadata": {},
   "outputs": [
    {
     "data": {
      "text/plain": [
       "(46.13341314676943, 49.77365408357963)"
      ]
     },
     "execution_count": 22,
     "metadata": {},
     "output_type": "execute_result"
    }
   ],
   "source": [
    "len(df[df['Gender']=='Female'])*100/len(df),len(df[df['Gender']=='Male'])*100/len(df)"
   ]
  },
  {
   "cell_type": "markdown",
   "metadata": {},
   "source": [
    "A porcentagem de fêmeas é 46% e macho é 50%."
   ]
  },
  {
   "cell_type": "code",
   "execution_count": 23,
   "metadata": {},
   "outputs": [
    {
     "data": {
      "image/png": "[encoded data removed]",
      "text/plain": [
       "<Figure size 720x504 with 1 Axes>"
      ]
     },
     "metadata": {
      "needs_background": "light"
     },
     "output_type": "display_data"
    }
   ],
   "source": [
    "plt.figure(figsize=(10,7))\n",
    "ax=sns.countplot(df['AnimalType'],hue=df['OutcomeType'], palette='Set3') \n"
   ]
  },
  {
   "cell_type": "code",
   "execution_count": 24,
   "metadata": {},
   "outputs": [
    {
     "name": "stdout",
     "output_type": "stream",
     "text": [
      "Adoption 24.306932545175652 Return_to_owner 16.03501814508586 Transfer 14.654495117662464 Euthanasia 3.1613603202514122 Died 0.18706274084327884\n"
     ]
    }
   ],
   "source": [
    "print(str('Adoption'),len(df[(df['AnimalType']=='Dog')&(df['OutcomeType']=='Adoption')])*100/len(df),\n",
    "      str('Return_to_owner'),len(df[(df['AnimalType']=='Dog')&(df['OutcomeType']=='Return_to_owner')])*100/len(df),\n",
    "      str('Transfer'),len(df[(df['AnimalType']=='Dog')&(df['OutcomeType']=='Transfer')])*100/len(df),\n",
    "      str('Euthanasia'),len(df[(df['AnimalType']=='Dog')&(df['OutcomeType']=='Euthanasia')])*100/len(df),\n",
    "      str('Died'),len(df[(df['AnimalType']=='Dog')&(df['OutcomeType']=='Died')])*100/len(df)\n",
    "     )"
   ]
  },
  {
   "cell_type": "code",
   "execution_count": 25,
   "metadata": {},
   "outputs": [
    {
     "name": "stdout",
     "output_type": "stream",
     "text": [
      "Adoption 15.982640577649743 Return_to_owner 1.8706274084327883 Transfer 20.595607766845 Euthanasia 2.6562909199745595 Died 0.5499644580792398\n"
     ]
    }
   ],
   "source": [
    "print(str('Adoption'),len(df[(df['AnimalType']=='Cat')&(df['OutcomeType']=='Adoption')])*100/len(df),\n",
    "      str('Return_to_owner'),len(df[(df['AnimalType']=='Cat')&(df['OutcomeType']=='Return_to_owner')])*100/len(df),\n",
    "      str('Transfer'),len(df[(df['AnimalType']=='Cat')&(df['OutcomeType']=='Transfer')])*100/len(df),\n",
    "      str('Euthanasia'),len(df[(df['AnimalType']=='Cat')&(df['OutcomeType']=='Euthanasia')])*100/len(df),\n",
    "      str('Died'),len(df[(df['AnimalType']=='Cat')&(df['OutcomeType']=='Died')])*100/len(df)\n",
    "     )"
   ]
  },
  {
   "cell_type": "markdown",
   "metadata": {},
   "source": [
    "O gráfico acima mostra os tipos de animais em função do que ocorreu com ele.\n",
    "Observamos alguns pontos importantes:\n",
    "\n",
    "- Porcentagem de adoção de cães é de 24% e dos gatos é de 16%\n",
    "- Porcentagem de Eutanásia de cães é de 3% e dos gatos é de 3%\n",
    "- Porcentagem de retorno aos donos de cães é de 16% e dos gatos é de 2% \n",
    "- Porcentagem de transferência de cães é de 15% e dos gatos é de 21%\n",
    "- Porcentagem de mortes de cães é de 0.2% e dos gatos é de 0.5%\n",
    "\n",
    "Ou seja, cães tem taxas maiores de adoção e de retorno aos donos. Já os gatos tem maiores chances de tranferência ou adoção."
   ]
  },
  {
   "cell_type": "code",
   "execution_count": 26,
   "metadata": {},
   "outputs": [
    {
     "data": {
      "text/plain": [
       "<matplotlib.axes._subplots.AxesSubplot at 0x1a1d746990>"
      ]
     },
     "execution_count": 26,
     "metadata": {},
     "output_type": "execute_result"
    },
    {
     "data": {
      "image/png": "[encoded data removed]",
      "text/plain": [
       "<Figure size 1152x432 with 2 Axes>"
      ]
     },
     "metadata": {
      "needs_background": "light"
     },
     "output_type": "display_data"
    }
   ],
   "source": [
    "fig, ax = plt.subplots(nrows = 1, ncols = 2, figsize = (16, 6))\n",
    "\n",
    "sns.countplot(df['year'],hue=df['OutcomeType'], palette='rainbow',ax = ax[0])\n",
    "   \n",
    "sns.countplot(df['Gender'], hue=df['OutcomeType'], palette='rainbow',ax = ax[1])"
   ]
  },
  {
   "cell_type": "markdown",
   "metadata": {},
   "source": [
    "Observamos uma tendência de adoção nos anos de 2014 e 2015 que não continuou em 2016.\n",
    "\n",
    "Ao analisar a taxa de outcomes em função do sexo, vemos que a maioria dos animais são Adotados, transferidos ou retornam aos seus donos."
   ]
  },
  {
   "cell_type": "code",
   "execution_count": 27,
   "metadata": {},
   "outputs": [
    {
     "data": {
      "text/plain": [
       "<matplotlib.axes._subplots.AxesSubplot at 0x1a1d944590>"
      ]
     },
     "execution_count": 27,
     "metadata": {},
     "output_type": "execute_result"
    },
    {
     "data": {
      "image/png": "[encoded data removed]",
      "text/plain": [
       "<Figure size 1080x504 with 1 Axes>"
      ]
     },
     "metadata": {
      "needs_background": "light"
     },
     "output_type": "display_data"
    }
   ],
   "source": [
    "plt.figure(figsize=(15,7))\n",
    "sns.countplot(df['month'],hue=df['OutcomeType'], palette='rainbow')"
   ]
  },
  {
   "cell_type": "markdown",
   "metadata": {},
   "source": [
    "O mês de dezembro tem uma maior taxa de adoção e o mês de abril a taxa mais baixa."
   ]
  },
  {
   "cell_type": "code",
   "execution_count": 28,
   "metadata": {},
   "outputs": [
    {
     "data": {
      "text/plain": [
       "<matplotlib.axes._subplots.AxesSubplot at 0x1a1d8ef110>"
      ]
     },
     "execution_count": 28,
     "metadata": {},
     "output_type": "execute_result"
    },
    {
     "data": {
      "image/png": "[encoded data removed]",
      "text/plain": [
       "<Figure size 1080x504 with 1 Axes>"
      ]
     },
     "metadata": {
      "needs_background": "light"
     },
     "output_type": "display_data"
    }
   ],
   "source": [
    "plt.figure(figsize=(15,7))\n",
    "sns.countplot(df['day_week'],hue=df['OutcomeType'], palette='rainbow')"
   ]
  },
  {
   "cell_type": "markdown",
   "metadata": {},
   "source": [
    "As adoções são mais comuns nos finais de semana."
   ]
  },
  {
   "cell_type": "code",
   "execution_count": 29,
   "metadata": {},
   "outputs": [
    {
     "data": {
      "text/plain": [
       "<matplotlib.axes._subplots.AxesSubplot at 0x1a1dc4e190>"
      ]
     },
     "execution_count": 29,
     "metadata": {},
     "output_type": "execute_result"
    },
    {
     "data": {
      "image/png": "[encoded data removed]",
      "text/plain": [
       "<Figure size 1080x504 with 1 Axes>"
      ]
     },
     "metadata": {
      "needs_background": "light"
     },
     "output_type": "display_data"
    }
   ],
   "source": [
    "plt.figure(figsize=(15,7))\n",
    "sns.countplot(df['hour'],hue=df['OutcomeType'], palette='rainbow')"
   ]
  },
  {
   "cell_type": "markdown",
   "metadata": {},
   "source": [
    "Os horários em que mais acontecem adoções são entre 17-18h."
   ]
  },
  {
   "cell_type": "code",
   "execution_count": 30,
   "metadata": {},
   "outputs": [
    {
     "name": "stderr",
     "output_type": "stream",
     "text": [
      "/opt/anaconda3/lib/python3.7/site-packages/pandas/core/ops/array_ops.py:253: FutureWarning: elementwise comparison failed; returning scalar instead, but in the future will perform elementwise comparison\n",
      "  res_values = method(rvalues)\n"
     ]
    },
    {
     "data": {
      "text/plain": [
       "Text(0, 0.5, 'Counts')"
      ]
     },
     "execution_count": 30,
     "metadata": {},
     "output_type": "execute_result"
    },
    {
     "data": {
      "image/png": "[encoded data removed]",
      "text/plain": [
       "<Figure size 1152x432 with 2 Axes>"
      ]
     },
     "metadata": {
      "needs_background": "light"
     },
     "output_type": "display_data"
    }
   ],
   "source": [
    "fig, ax = plt.subplots(nrows = 1, ncols = 2, figsize = (16, 6))\n",
    "u=df[df['AgeInYears']!='Unknown']\n",
    "sns.barplot(x = 'OutcomeType', y ='AgeInYears', data = u, palette=\"rainbow\",ax = ax[0])\n",
    "   \n",
    "sns.distplot(u['AgeInYears'],color='green', kde=False,ax = ax[1])\n",
    "ax[1].set_ylabel('Counts')"
   ]
  },
  {
   "cell_type": "markdown",
   "metadata": {},
   "source": [
    "A maioria dos animais adotados têm até 1.5 ano de idade.\n"
   ]
  },
  {
   "cell_type": "code",
   "execution_count": 31,
   "metadata": {},
   "outputs": [],
   "source": [
    "data=data.drop(['OutcomeSubtype','day_week','hour','month'],1)"
   ]
  },
  {
   "cell_type": "markdown",
   "metadata": {},
   "source": [
    "### Encoding das variáveis categóricas"
   ]
  },
  {
   "cell_type": "markdown",
   "metadata": {},
   "source": [
    "Antes de iniciar a criação dos modelos de predição, vamos criar encodings para as variáveis categóricas.\n",
    "Nos testes, observamos que a eficiência do modelo melhora quando não fornecemos as variáveis Breed e Colors, portanto ela já foram removidas do dataset data."
   ]
  },
  {
   "cell_type": "code",
   "execution_count": 32,
   "metadata": {},
   "outputs": [],
   "source": [
    "le_outcome= preprocessing.LabelEncoder()\n",
    "data['OutcomeType'] = le_outcome.fit_transform(data['OutcomeType'])\n",
    "\n",
    "le_animal_type= preprocessing.LabelEncoder()\n",
    "data['AnimalType'] = le_animal_type.fit_transform(data['AnimalType'])\n",
    "\n",
    "le_gender= preprocessing.LabelEncoder()\n",
    "data['Gender'] = le_gender.fit_transform(data['Gender'])\n",
    "\n",
    "le_condition= preprocessing.LabelEncoder()\n",
    "data['Condition'] = le_condition.fit_transform(data['Condition'])\n",
    "\n",
    "le_year= preprocessing.LabelEncoder()\n",
    "data['year'] = le_year.fit_transform(data['year'])\n"
   ]
  },
  {
   "cell_type": "markdown",
   "metadata": {},
   "source": [
    "### Classificação por Kmeans clustering"
   ]
  },
  {
   "cell_type": "markdown",
   "metadata": {},
   "source": [
    "Para tentar melhorar o modelo de classificação, vamos utilizar k means clustering para identificar grupos com características semelhantes no nosso dataset."
   ]
  },
  {
   "cell_type": "code",
   "execution_count": 33,
   "metadata": {},
   "outputs": [],
   "source": [
    "features=data.drop('OutcomeType',1)"
   ]
  },
  {
   "cell_type": "markdown",
   "metadata": {},
   "source": [
    "Iremos achar o melhor valor de n_clustering pelo método do cotovelo e silhueta. "
   ]
  },
  {
   "cell_type": "code",
   "execution_count": 34,
   "metadata": {},
   "outputs": [],
   "source": [
    "# Para achar o n ótimo, precisamos calcular o wcss\n",
    "def calculate_wcss(inp):\n",
    "    wcss = []\n",
    "    for n in range(1, 11):\n",
    "        initial=inp.head(n)\n",
    "        kmeans = KMeans(n_clusters=n)#init=initial,n_init=1)\n",
    "        kmeans.fit(X=inp)\n",
    "        wcss.append((n,kmeans.inertia_))\n",
    "    wcss=pd.DataFrame(wcss)\n",
    "    wcss.columns=['n','kmeans.inertia']        \n",
    "    return wcss\n",
    "\n",
    "# Como nem sempre é fácil identificar com o olho o melhor ponto, vamos utilizar uma função para isso\n",
    "\n",
    "def calculate_sil(inp,kmax):\n",
    "    sil = []\n",
    "    for k in range(2, kmax+1):\n",
    "        kmeans = KMeans(n_clusters = k).fit(inp)\n",
    "        labels = kmeans.labels_\n",
    "        sil.append((k,silhouette_score(inp, labels, metric = 'euclidean')))\n",
    "    sil=pd.DataFrame(sil)\n",
    "    sil.columns=['n','sil']    \n",
    "    return sil\n",
    "    \n",
    "def otimizar_cluster(wcss):\n",
    "    wcss=wcss.values.tolist()\n",
    "    x1, y1 = wcss[0][0], wcss[0][1]\n",
    "    x2, y2 =  wcss[len(wcss)-1][0], wcss[len(wcss)-1][1]\n",
    "    distances = []\n",
    "    for i in range(len(wcss)):\n",
    "        x0 = wcss[i][0]\n",
    "        y0 = wcss[i][1]\n",
    "        numerator = abs((y2-y1)*x0 - (x2-x1)*y0 + x2*y1 - y2*x1)\n",
    "        denominator = np.sqrt((y2 - y1)**2 + (x2 - x1)**2)\n",
    "        distances.append(numerator/denominator)   \n",
    "    return distances.index(max(distances))+1"
   ]
  },
  {
   "cell_type": "code",
   "execution_count": 35,
   "metadata": {},
   "outputs": [
    {
     "data": {
      "image/png": "[encoded data removed]",
      "text/plain": [
       "<Figure size 1080x360 with 2 Axes>"
      ]
     },
     "metadata": {
      "needs_background": "light"
     },
     "output_type": "display_data"
    }
   ],
   "source": [
    "# Calcular os valores de wcss e do gráfico silhueta com as funções definidas acima\n",
    "wcss=calculate_wcss(features)\n",
    "sil=calculate_sil(features,10)\n",
    "\n",
    "fig,(ax1, ax2) = plt.subplots(ncols=2,figsize=(15,5))\n",
    "ax1.plot(wcss['n'],wcss['kmeans.inertia'])\n",
    "ax1.set_ylabel('wcss', fontsize = 16)\n",
    "ax1.set_xlabel('n', fontsize = 16)\n",
    "ax2.plot(sil['n'], sil['sil'])\n",
    "ax2.set_ylabel('silhouette_score', fontsize = 16)\n",
    "ax2.set_xlabel('n', fontsize = 16)\n",
    "plt.show()"
   ]
  },
  {
   "cell_type": "markdown",
   "metadata": {},
   "source": [
    "No gráfico wcss x n não fica muito claro qual o valor de n, podemos utilizar o gráfico silhueta e achar o ponto mais alto facilmente. Também podemos usar a função que foi feita logo acima para calcular o valor ótimo de n:"
   ]
  },
  {
   "cell_type": "code",
   "execution_count": 36,
   "metadata": {},
   "outputs": [
    {
     "data": {
      "text/plain": [
       "3"
      ]
     },
     "execution_count": 36,
     "metadata": {},
     "output_type": "execute_result"
    }
   ],
   "source": [
    "k=otimizar_cluster(wcss)\n",
    "k"
   ]
  },
  {
   "cell_type": "code",
   "execution_count": 37,
   "metadata": {},
   "outputs": [],
   "source": [
    "# Kmeans clustering é aplicado no conjunto de dados após otimização do valor de n_clusters\n",
    "kmeans = KMeans(n_clusters=k) \n",
    "kmeans.fit(features)\n",
    "data['kmeans']=kmeans.labels_"
   ]
  },
  {
   "cell_type": "code",
   "execution_count": 38,
   "metadata": {},
   "outputs": [],
   "source": [
    "# Definir os targets e desordenar o dataset\n",
    "shuffled_data = shuffle(data)\n",
    "y=shuffled_data['OutcomeType']\n",
    "X=shuffled_data.drop('OutcomeType',1)\n",
    "#Dividir o dataset em treino e teste\n",
    "X_train, X_test, y_train, y_test = train_test_split(X, y, test_size=0.3, random_state=42)"
   ]
  },
  {
   "cell_type": "code",
   "execution_count": 39,
   "metadata": {},
   "outputs": [
    {
     "data": {
      "text/html": [
       "<div>\n",
       "<style scoped>\n",
       "    .dataframe tbody tr th:only-of-type {\n",
       "        vertical-align: middle;\n",
       "    }\n",
       "\n",
       "    .dataframe tbody tr th {\n",
       "        vertical-align: top;\n",
       "    }\n",
       "\n",
       "    .dataframe thead th {\n",
       "        text-align: right;\n",
       "    }\n",
       "</style>\n",
       "<table border=\"1\" class=\"dataframe\">\n",
       "  <thead>\n",
       "    <tr style=\"text-align: right;\">\n",
       "      <th></th>\n",
       "      <th>AnimalType</th>\n",
       "      <th>AgeInYears</th>\n",
       "      <th>Gender</th>\n",
       "      <th>Condition</th>\n",
       "      <th>Agressivo</th>\n",
       "      <th>Comportamental</th>\n",
       "      <th>year</th>\n",
       "      <th>horario</th>\n",
       "      <th>weekend</th>\n",
       "      <th>estacao</th>\n",
       "      <th>hollidays</th>\n",
       "      <th>kmeans</th>\n",
       "    </tr>\n",
       "  </thead>\n",
       "  <tbody>\n",
       "    <tr>\n",
       "      <th>13306</th>\n",
       "      <td>0</td>\n",
       "      <td>0.833333</td>\n",
       "      <td>0</td>\n",
       "      <td>0</td>\n",
       "      <td>1</td>\n",
       "      <td>0</td>\n",
       "      <td>2</td>\n",
       "      <td>1</td>\n",
       "      <td>0</td>\n",
       "      <td>1</td>\n",
       "      <td>0</td>\n",
       "      <td>1</td>\n",
       "    </tr>\n",
       "    <tr>\n",
       "      <th>14176</th>\n",
       "      <td>1</td>\n",
       "      <td>9.000000</td>\n",
       "      <td>0</td>\n",
       "      <td>1</td>\n",
       "      <td>0</td>\n",
       "      <td>0</td>\n",
       "      <td>2</td>\n",
       "      <td>3</td>\n",
       "      <td>1</td>\n",
       "      <td>3</td>\n",
       "      <td>1</td>\n",
       "      <td>2</td>\n",
       "    </tr>\n",
       "    <tr>\n",
       "      <th>1378</th>\n",
       "      <td>0</td>\n",
       "      <td>0.076923</td>\n",
       "      <td>1</td>\n",
       "      <td>0</td>\n",
       "      <td>1</td>\n",
       "      <td>1</td>\n",
       "      <td>1</td>\n",
       "      <td>2</td>\n",
       "      <td>0</td>\n",
       "      <td>1</td>\n",
       "      <td>1</td>\n",
       "      <td>1</td>\n",
       "    </tr>\n",
       "    <tr>\n",
       "      <th>7396</th>\n",
       "      <td>1</td>\n",
       "      <td>1.000000</td>\n",
       "      <td>0</td>\n",
       "      <td>1</td>\n",
       "      <td>1</td>\n",
       "      <td>1</td>\n",
       "      <td>2</td>\n",
       "      <td>3</td>\n",
       "      <td>0</td>\n",
       "      <td>4</td>\n",
       "      <td>0</td>\n",
       "      <td>1</td>\n",
       "    </tr>\n",
       "    <tr>\n",
       "      <th>17738</th>\n",
       "      <td>1</td>\n",
       "      <td>16.000000</td>\n",
       "      <td>1</td>\n",
       "      <td>1</td>\n",
       "      <td>1</td>\n",
       "      <td>0</td>\n",
       "      <td>2</td>\n",
       "      <td>3</td>\n",
       "      <td>0</td>\n",
       "      <td>4</td>\n",
       "      <td>0</td>\n",
       "      <td>2</td>\n",
       "    </tr>\n",
       "    <tr>\n",
       "      <th>...</th>\n",
       "      <td>...</td>\n",
       "      <td>...</td>\n",
       "      <td>...</td>\n",
       "      <td>...</td>\n",
       "      <td>...</td>\n",
       "      <td>...</td>\n",
       "      <td>...</td>\n",
       "      <td>...</td>\n",
       "      <td>...</td>\n",
       "      <td>...</td>\n",
       "      <td>...</td>\n",
       "      <td>...</td>\n",
       "    </tr>\n",
       "    <tr>\n",
       "      <th>15828</th>\n",
       "      <td>1</td>\n",
       "      <td>0.416667</td>\n",
       "      <td>0</td>\n",
       "      <td>1</td>\n",
       "      <td>1</td>\n",
       "      <td>1</td>\n",
       "      <td>2</td>\n",
       "      <td>4</td>\n",
       "      <td>0</td>\n",
       "      <td>4</td>\n",
       "      <td>0</td>\n",
       "      <td>1</td>\n",
       "    </tr>\n",
       "    <tr>\n",
       "      <th>15794</th>\n",
       "      <td>1</td>\n",
       "      <td>1.000000</td>\n",
       "      <td>1</td>\n",
       "      <td>1</td>\n",
       "      <td>0</td>\n",
       "      <td>0</td>\n",
       "      <td>2</td>\n",
       "      <td>4</td>\n",
       "      <td>0</td>\n",
       "      <td>3</td>\n",
       "      <td>1</td>\n",
       "      <td>1</td>\n",
       "    </tr>\n",
       "    <tr>\n",
       "      <th>8865</th>\n",
       "      <td>0</td>\n",
       "      <td>0.038462</td>\n",
       "      <td>0</td>\n",
       "      <td>0</td>\n",
       "      <td>0</td>\n",
       "      <td>0</td>\n",
       "      <td>1</td>\n",
       "      <td>4</td>\n",
       "      <td>1</td>\n",
       "      <td>2</td>\n",
       "      <td>1</td>\n",
       "      <td>1</td>\n",
       "    </tr>\n",
       "    <tr>\n",
       "      <th>1098</th>\n",
       "      <td>1</td>\n",
       "      <td>1.000000</td>\n",
       "      <td>1</td>\n",
       "      <td>1</td>\n",
       "      <td>0</td>\n",
       "      <td>0</td>\n",
       "      <td>1</td>\n",
       "      <td>3</td>\n",
       "      <td>0</td>\n",
       "      <td>4</td>\n",
       "      <td>0</td>\n",
       "      <td>1</td>\n",
       "    </tr>\n",
       "    <tr>\n",
       "      <th>24839</th>\n",
       "      <td>1</td>\n",
       "      <td>3.000000</td>\n",
       "      <td>1</td>\n",
       "      <td>1</td>\n",
       "      <td>1</td>\n",
       "      <td>0</td>\n",
       "      <td>1</td>\n",
       "      <td>2</td>\n",
       "      <td>1</td>\n",
       "      <td>1</td>\n",
       "      <td>0</td>\n",
       "      <td>0</td>\n",
       "    </tr>\n",
       "  </tbody>\n",
       "</table>\n",
       "<p>18710 rows × 12 columns</p>\n",
       "</div>"
      ],
      "text/plain": [
       "       AnimalType  AgeInYears  Gender  Condition  Agressivo  Comportamental  \\\n",
       "13306           0    0.833333       0          0          1               0   \n",
       "14176           1    9.000000       0          1          0               0   \n",
       "1378            0    0.076923       1          0          1               1   \n",
       "7396            1    1.000000       0          1          1               1   \n",
       "17738           1   16.000000       1          1          1               0   \n",
       "...           ...         ...     ...        ...        ...             ...   \n",
       "15828           1    0.416667       0          1          1               1   \n",
       "15794           1    1.000000       1          1          0               0   \n",
       "8865            0    0.038462       0          0          0               0   \n",
       "1098            1    1.000000       1          1          0               0   \n",
       "24839           1    3.000000       1          1          1               0   \n",
       "\n",
       "       year  horario  weekend  estacao  hollidays  kmeans  \n",
       "13306     2        1        0        1          0       1  \n",
       "14176     2        3        1        3          1       2  \n",
       "1378      1        2        0        1          1       1  \n",
       "7396      2        3        0        4          0       1  \n",
       "17738     2        3        0        4          0       2  \n",
       "...     ...      ...      ...      ...        ...     ...  \n",
       "15828     2        4        0        4          0       1  \n",
       "15794     2        4        0        3          1       1  \n",
       "8865      1        4        1        2          1       1  \n",
       "1098      1        3        0        4          0       1  \n",
       "24839     1        2        1        1          0       0  \n",
       "\n",
       "[18710 rows x 12 columns]"
      ]
     },
     "execution_count": 39,
     "metadata": {},
     "output_type": "execute_result"
    }
   ],
   "source": [
    "X_train"
   ]
  },
  {
   "cell_type": "markdown",
   "metadata": {},
   "source": [
    "### Modelagem"
   ]
  },
  {
   "cell_type": "markdown",
   "metadata": {},
   "source": [
    "Nesta etapa, testaremos alguns modelos para definir qual classificará melhor nossos dados."
   ]
  },
  {
   "cell_type": "markdown",
   "metadata": {},
   "source": [
    "#### Random Forest Classifier"
   ]
  },
  {
   "cell_type": "code",
   "execution_count": 40,
   "metadata": {},
   "outputs": [
    {
     "name": "stdout",
     "output_type": "stream",
     "text": [
      "Accuracy: 0.6091782017707944\n",
      "              precision    recall  f1-score   support\n",
      "\n",
      "           0       0.67      0.73      0.70      3221\n",
      "           1       0.15      0.09      0.11        55\n",
      "           2       0.25      0.16      0.20       451\n",
      "           3       0.40      0.39      0.39      1452\n",
      "           4       0.67      0.67      0.67      2840\n",
      "\n",
      "    accuracy                           0.61      8019\n",
      "   macro avg       0.43      0.41      0.41      8019\n",
      "weighted avg       0.60      0.61      0.60      8019\n",
      "\n",
      "[[2356    2   36  439  388]\n",
      " [   7    5    5    3   35]\n",
      " [  79    5   72   82  213]\n",
      " [ 550    0   57  562  283]\n",
      " [ 507   21  113  309 1890]]\n"
     ]
    }
   ],
   "source": [
    "rfc = RandomForestClassifier(n_estimators=100,random_state=0,bootstrap=True,oob_score=True)\n",
    "rfc.fit(X_train,y_train)\n",
    "rfc_predictions = rfc.predict(X_test)\n",
    "print(\"Accuracy:\", rfc.score(X_test, y_test))\n",
    "print(classification_report(y_test,rfc_predictions))\n",
    "print(confusion_matrix(y_test, rfc_predictions))"
   ]
  },
  {
   "cell_type": "code",
   "execution_count": 41,
   "metadata": {},
   "outputs": [
    {
     "name": "stdout",
     "output_type": "stream",
     "text": [
      "1.897837479291877\n"
     ]
    }
   ],
   "source": [
    "print(log_loss(y_test, rfc.predict_proba(X_test)))"
   ]
  },
  {
   "cell_type": "markdown",
   "metadata": {},
   "source": [
    "#### Gradient Boosting Classifier"
   ]
  },
  {
   "cell_type": "code",
   "execution_count": 42,
   "metadata": {},
   "outputs": [
    {
     "name": "stdout",
     "output_type": "stream",
     "text": [
      "Accuracy: 0.6625514403292181\n",
      "              precision    recall  f1-score   support\n",
      "\n",
      "           0       0.68      0.83      0.75      3221\n",
      "           1       1.00      0.02      0.04        55\n",
      "           2       0.44      0.12      0.19       451\n",
      "           3       0.48      0.42      0.45      1452\n",
      "           4       0.73      0.69      0.71      2840\n",
      "\n",
      "    accuracy                           0.66      8019\n",
      "   macro avg       0.67      0.42      0.43      8019\n",
      "weighted avg       0.65      0.66      0.64      8019\n",
      "\n",
      "[[2689    0    8  312  212]\n",
      " [   3    1    1    6   44]\n",
      " [  72    0   56   78  245]\n",
      " [ 585    0   29  616  222]\n",
      " [ 587    0   34  272 1947]]\n"
     ]
    }
   ],
   "source": [
    "gbc = GradientBoostingClassifier(max_features='sqrt',n_estimators=100)\n",
    "gbc.fit(X_train,y_train)\n",
    "gbc_predict=gbc.predict(X_test)\n",
    "gbc.fit(X_train,y_train)\n",
    "print(\"Accuracy:\", gbc.score(X_test, y_test))\n",
    "print(classification_report(y_test,gbc_predict))\n",
    "print(confusion_matrix(y_test, gbc_predict))"
   ]
  },
  {
   "cell_type": "code",
   "execution_count": 43,
   "metadata": {},
   "outputs": [
    {
     "name": "stdout",
     "output_type": "stream",
     "text": [
      "0.8306132234963112\n"
     ]
    }
   ],
   "source": [
    "print(log_loss(y_test, gbc.predict_proba(X_test)))"
   ]
  },
  {
   "cell_type": "markdown",
   "metadata": {},
   "source": [
    "#### XGBOOST"
   ]
  },
  {
   "cell_type": "code",
   "execution_count": 44,
   "metadata": {
    "scrolled": true
   },
   "outputs": [
    {
     "name": "stdout",
     "output_type": "stream",
     "text": [
      "Accuracy: 0.6584362139917695\n",
      "              precision    recall  f1-score   support\n",
      "\n",
      "           0       0.68      0.84      0.75      3221\n",
      "           1       1.00      0.02      0.04        55\n",
      "           2       0.45      0.08      0.14       451\n",
      "           3       0.47      0.41      0.44      1452\n",
      "           4       0.72      0.69      0.70      2840\n",
      "\n",
      "    accuracy                           0.66      8019\n",
      "   macro avg       0.67      0.41      0.41      8019\n",
      "weighted avg       0.65      0.66      0.64      8019\n",
      "\n",
      "[[2693    0    5  302  221]\n",
      " [   4    1    1    5   44]\n",
      " [  74    0   37   86  254]\n",
      " [ 603    0   17  598  234]\n",
      " [ 597    0   22  270 1951]]\n"
     ]
    }
   ],
   "source": [
    "import xgboost as xgb\n",
    "from xgboost.sklearn import XGBClassifier\n",
    "xb = xgb.XGBClassifier()\n",
    "xb.fit(X_train, y_train) \n",
    "xb_predictions = xb.predict(X_test)\n",
    "print(\"Accuracy:\", xb.score(X_test, y_test))\n",
    "print(classification_report(y_test,xb_predictions))\n",
    "print(confusion_matrix(y_test, xb_predictions))"
   ]
  },
  {
   "cell_type": "code",
   "execution_count": 45,
   "metadata": {},
   "outputs": [
    {
     "name": "stdout",
     "output_type": "stream",
     "text": [
      "0.8317373383082732\n"
     ]
    }
   ],
   "source": [
    "print(log_loss(y_test, xb.predict_proba(X_test)))"
   ]
  },
  {
   "cell_type": "markdown",
   "metadata": {},
   "source": [
    "#### XGBOOST DMATRIX"
   ]
  },
  {
   "cell_type": "code",
   "execution_count": 46,
   "metadata": {},
   "outputs": [
    {
     "name": "stdout",
     "output_type": "stream",
     "text": [
      "0.8104248466701838\n"
     ]
    }
   ],
   "source": [
    "D_train = xgb.DMatrix(X_train,y_train)\n",
    "D_test = xgb.DMatrix(X_test)\n",
    "num_round = 125\n",
    "\n",
    "parameters = {'max_depth':5, 'eta':0.1, 'objective':'multi:softprob',\n",
    "              'num_class':5,'eval_metric':'mlogloss','subsample':0.85}\n",
    "\n",
    "dmatrix = xgb.train(parameters, D_train, num_round)\n",
    "\n",
    "print(log_loss(y_test, dmatrix.predict(D_test)))"
   ]
  },
  {
   "cell_type": "markdown",
   "metadata": {},
   "source": [
    "Comparando os valores de log-loss, conseguimos uma melhora na predição dos nossos dados com o dmatrix. Portanto, ele será utilizado para gerar as previsões do dataset teste."
   ]
  },
  {
   "cell_type": "markdown",
   "metadata": {},
   "source": [
    "### importância das variáveis"
   ]
  },
  {
   "cell_type": "code",
   "execution_count": 47,
   "metadata": {
    "scrolled": false
   },
   "outputs": [
    {
     "data": {
      "image/png": "[encoded data removed]",
      "text/plain": [
       "<Figure size 576x432 with 1 Axes>"
      ]
     },
     "metadata": {
      "needs_background": "light"
     },
     "output_type": "display_data"
    }
   ],
   "source": [
    "# Apenas para observar as variáveis que mais influênciam no destino dos animais de acordo com o modelo RFC\n",
    "\n",
    "feature_importance = rfc.feature_importances_\n",
    "sorted_idx = np.argsort(feature_importance)\n",
    "pos = np.arange(sorted_idx.shape[0]) + .5\n",
    "\n",
    "plt.figure(figsize=(8, 6))\n",
    "plt.barh(pos, feature_importance[sorted_idx], align='center',color='DarkBlue')\n",
    "plt.yticks(pos, X_train.keys()[sorted_idx])\n",
    "plt.xlabel('Feature Importance')\n",
    "plt.title('Variable Importance')\n",
    "plt.show()"
   ]
  },
  {
   "cell_type": "markdown",
   "metadata": {},
   "source": [
    "Pelo ranking de importância das variáveis, vemos que as caracteristicas dos animais que mais influenciam no seu destino é a idade, se é castrado ou não, tipo e sexo do animal."
   ]
  },
  {
   "cell_type": "markdown",
   "metadata": {},
   "source": [
    "### Tratamento do arquivo test.csv"
   ]
  },
  {
   "cell_type": "code",
   "execution_count": 48,
   "metadata": {},
   "outputs": [],
   "source": [
    "test_data=pd.read_csv('test.csv')\n",
    "df=test_data.copy()"
   ]
  },
  {
   "cell_type": "markdown",
   "metadata": {},
   "source": [
    "A seguir utilizando o dataset teste, faremos o mesmo tratamento que foi feito anteriormente."
   ]
  },
  {
   "cell_type": "code",
   "execution_count": 49,
   "metadata": {},
   "outputs": [],
   "source": [
    "ages=[]\n",
    "\n",
    "for n in range(len(df)):\n",
    "    value=str(df['AgeuponOutcome'][n])\n",
    "    age = float(value.split()[0])\n",
    "    if value.find('year') != -1:\n",
    "        ages.append(age)\n",
    "    elif value.find('month') != -1:\n",
    "        ages.append(age/12)\n",
    "    elif value.find('week') != -1:\n",
    "        ages.append(age/52)     \n",
    "    elif value.find('day') != -1:\n",
    "        ages.append(age/365)\n",
    "    else:     \n",
    "        ages.append(0)\n",
    "        \n",
    "df['AgeInYears']=ages "
   ]
  },
  {
   "cell_type": "code",
   "execution_count": 50,
   "metadata": {},
   "outputs": [],
   "source": [
    "gender=[]\n",
    "condition=[]\n",
    "\n",
    "for n in range(len(df)):\n",
    "    value=str(df['SexuponOutcome'][n])\n",
    "    if value.find('Neutered') != -1 or value.find('Spayed') != -1 and value.find('Male') != -1:\n",
    "        gender.append('Male')\n",
    "        condition.append('Neutered')\n",
    "    elif value.find('Neutered') != -1 or value.find('Spayed') != -1 and value.find('Female') != -1:\n",
    "        gender.append('Female')\n",
    "        condition.append('Neutered')\n",
    "    elif value.find('Intact') != -1 and value.find('Male') != -1:\n",
    "        gender.append('Male')\n",
    "        condition.append('Intact')\n",
    "    elif value.find('Intact') != -1 and value.find('Female') != -1:\n",
    "        gender.append('Female')\n",
    "        condition.append('Intact')    \n",
    "    else:     \n",
    "        gender.append('Unknown')\n",
    "        condition.append('Unknown')\n",
    "        \n",
    "df['Gender']=gender\n",
    "df['Condition']=condition"
   ]
  },
  {
   "cell_type": "markdown",
   "metadata": {},
   "source": [
    "Para tratar a coluna Breed, vamos definir apenas raças puras ou cães SRD, ou seja mix."
   ]
  },
  {
   "cell_type": "code",
   "execution_count": 51,
   "metadata": {},
   "outputs": [],
   "source": [
    "breed=[]\n",
    "\n",
    "for n in range(len(df)):\n",
    "    value=str(df['Breed'][n])\n",
    "    if value.find('Mix') != -1 or value.find('/') != -1:\n",
    "        breed.append('Mix')   \n",
    "    else:     \n",
    "        breed.append(value)\n",
    "        \n",
    "df['Breeds']=breed"
   ]
  },
  {
   "cell_type": "markdown",
   "metadata": {},
   "source": [
    "Para tratar a coluna Color, vamos considerar cães com mais de uma cor como mix e cães com cores únicas."
   ]
  },
  {
   "cell_type": "code",
   "execution_count": 52,
   "metadata": {},
   "outputs": [],
   "source": [
    "color=[]\n",
    "\n",
    "for n in range(len(df)):\n",
    "    value=str(df['Color'][n])\n",
    "    if value.find('and') != -1 or value.find('/') != -1:\n",
    "        color.append('Mix')   \n",
    "    else:     \n",
    "        color.append(value)\n",
    "        \n",
    "df['Colors']=color"
   ]
  },
  {
   "cell_type": "markdown",
   "metadata": {},
   "source": [
    "A seguir, vamos separar a informação contida na coluna Breed em duas novas colunas. O objetivo desta manipulação é analisar e calssificar quais raças apresentam agressividade ou problemas comportamentais."
   ]
  },
  {
   "cell_type": "code",
   "execution_count": 53,
   "metadata": {},
   "outputs": [],
   "source": [
    "# Criaremos duas colunas, uma para cada raça da coluna Breed.  \n",
    "breed1=[]\n",
    "breed2=[]\n",
    "mix=[]\n",
    "for n  in range(len(df)):\n",
    "    value=str(df['Breed'][n])\n",
    "    if value.find('/') != -1:\n",
    "        breed1.append(df['Breed'][n].split('/')[0])\n",
    "        breed2.append(df['Breed'][n].split('/')[1])\n",
    "    elif value.find('Mix') != -1:\n",
    "        breed1.append(df['Breed'][n].split('Mix')[0])\n",
    "        breed2.append('Mix')\n",
    "    else:\n",
    "        breed1.append(value)\n",
    "        breed2.append(\"\")\n",
    "df['Breed_1']=breed1 \n",
    "df['Breed_2']=breed2        "
   ]
  },
  {
   "cell_type": "code",
   "execution_count": 54,
   "metadata": {},
   "outputs": [],
   "source": [
    "# Buscaremos para cada raça no nosso dataset se a raça apresenta ou não problemas de agressividade ou comportamental\n",
    "# se a raça estiver na lista criada anteriormente, \n",
    "#classificaremos o animal com possível problema de agressividade ou comportamental\n",
    "\n",
    "agressividade=[]\n",
    "for n in range(len(df)):\n",
    "    if df['Breed_1'][n]  in agressivo or df['Breed_2'][n]  in agressivo:\n",
    "        agressividade.append(1)\n",
    "    else:\n",
    "        agressividade.append(0)\n",
    "        \n",
    "comportamental=[]\n",
    "for n in range(len(df)):\n",
    "    if df['Breed_1'][n]  in comportamento or df['Breed_2'][n]  in comportamento:\n",
    "        comportamental.append(1)\n",
    "    else:\n",
    "        comportamental.append(0)        \n",
    "        \n",
    "df['Agressivo']=agressividade \n",
    "df['Comportamental']=comportamental         "
   ]
  },
  {
   "cell_type": "code",
   "execution_count": 55,
   "metadata": {},
   "outputs": [],
   "source": [
    "datetime=pd.to_datetime(pd.Series(df['DateTime']))\n",
    "df['year']=datetime.dt.year\n",
    "df['month']=datetime.dt.month\n",
    "df['day_week']=datetime.dt.day_name()\n",
    "df['hour']=datetime.dt.hour"
   ]
  },
  {
   "cell_type": "code",
   "execution_count": 56,
   "metadata": {},
   "outputs": [],
   "source": [
    "# Criaremos uma coluna para cada intervalo de horários, com início as 8 da manhã e duração de 3 horas.\n",
    "\n",
    "horario=[]\n",
    "\n",
    "for n in range(len(df)):\n",
    "    i=df['hour'][n]\n",
    "    if 8<=i<=10:\n",
    "        horario.append(1)\n",
    "    elif 11<=i<=13:\n",
    "        horario.append(2)\n",
    "    elif 14<=i<=16:\n",
    "        horario.append(3)\n",
    "    elif 16<=i<=18:\n",
    "        horario.append(4)\n",
    "    else:\n",
    "        horario.append(5)\n",
    "df['horario']=horario        "
   ]
  },
  {
   "cell_type": "code",
   "execution_count": 57,
   "metadata": {},
   "outputs": [],
   "source": [
    "# Criaremos colunas para indicar a estação do ano e período de férias (do calendário americano).\n",
    "estacao=[]\n",
    "ferias=[]\n",
    "weekend=[]\n",
    "\n",
    "for n in range(len(df)):\n",
    "    i=df['month'][n]\n",
    "    if 6<=i<=8 or i==12 or i==11:\n",
    "        ferias.append(1)\n",
    "    else:\n",
    "        ferias.append(0)\n",
    "        \n",
    "        \n",
    "for n in range(len(df)):\n",
    "    i=df['month'][n]\n",
    "    if 3<=i<=6:\n",
    "        estacao.append(1)\n",
    "    elif 7<=i<=9:\n",
    "        estacao.append(2)\n",
    "    elif 9<=i<=12:\n",
    "        estacao.append(3)\n",
    "    elif 1<=i<=3:\n",
    "        estacao.append(4)\n",
    "# Criaremos uma coluna para indicar se é fim de semana\n",
    "\n",
    "for n in range(len(df)):\n",
    "    i=df['day_week'][n]\n",
    "    if i=='Sunday' or i=='Saturday':\n",
    "        weekend.append(1)\n",
    "    else:\n",
    "        weekend.append(0)        \n",
    "        \n",
    "df['weekend']=weekend        \n",
    "df['estacao']=estacao \n",
    "df['hollidays']=ferias"
   ]
  },
  {
   "cell_type": "code",
   "execution_count": 58,
   "metadata": {},
   "outputs": [],
   "source": [
    "df=df.drop(['ID','Name','Color','DateTime','Colors','Breeds','Breed_1','Breed_2',\n",
    "            'AgeuponOutcome','SexuponOutcome','Breed','day_week','hour','month'],1)\n",
    "\n",
    "data=df.copy()\n",
    "\n",
    "le_animal_type= preprocessing.LabelEncoder()\n",
    "data['AnimalType'] = le_animal_type.fit_transform(data['AnimalType'])\n",
    "\n",
    "le_gender= preprocessing.LabelEncoder()\n",
    "data['Gender'] = le_gender.fit_transform(data['Gender'])\n",
    "\n",
    "le_condition= preprocessing.LabelEncoder()\n",
    "data['Condition'] = le_condition.fit_transform(data['Condition'])\n",
    "\n",
    "le_year= preprocessing.LabelEncoder()\n",
    "data['year'] = le_year.fit_transform(data['year'])\n"
   ]
  },
  {
   "cell_type": "code",
   "execution_count": 59,
   "metadata": {},
   "outputs": [],
   "source": [
    "# Kmeans clustering é aplicado no conjunto de dados após otimização do valor de n_clusters\n",
    "kmeans = KMeans(n_clusters=k) \n",
    "kmeans.fit(data)\n",
    "data['kmeans']=kmeans.labels_"
   ]
  },
  {
   "cell_type": "code",
   "execution_count": 60,
   "metadata": {},
   "outputs": [],
   "source": [
    "X_test_new=data\n",
    "D_test_new = xgb.DMatrix(X_test_new)"
   ]
  },
  {
   "cell_type": "code",
   "execution_count": 61,
   "metadata": {},
   "outputs": [
    {
     "data": {
      "text/plain": [
       "array([[1.5836129e-02, 2.9613953e-03, 4.9797926e-02, 2.4990964e-01,\n",
       "        6.8149489e-01],\n",
       "       [7.7343047e-01, 5.8654789e-04, 1.3921973e-02, 1.6214621e-01,\n",
       "        4.9914803e-02],\n",
       "       [3.4076056e-01, 3.4729922e-03, 1.3469227e-02, 1.2868212e-01,\n",
       "        5.1361507e-01],\n",
       "       ...,\n",
       "       [4.4508078e-03, 5.4029995e-03, 4.6246663e-02, 3.1158545e-03,\n",
       "        9.4078368e-01],\n",
       "       [5.5365783e-01, 1.4415025e-03, 2.0238910e-02, 3.5645890e-01,\n",
       "        6.8202808e-02],\n",
       "       [6.7888983e-02, 1.7158244e-03, 4.3064487e-01, 3.5336208e-01,\n",
       "        1.4638823e-01]], dtype=float32)"
      ]
     },
     "execution_count": 61,
     "metadata": {},
     "output_type": "execute_result"
    }
   ],
   "source": [
    "dmatrix_predictions=dmatrix.predict(D_test_new)\n",
    "dmatrix_predictions"
   ]
  },
  {
   "cell_type": "code",
   "execution_count": 62,
   "metadata": {},
   "outputs": [
    {
     "data": {
      "text/plain": [
       "{'Adoption': 0,\n",
       " 'Died': 1,\n",
       " 'Euthanasia': 2,\n",
       " 'Return_to_owner': 3,\n",
       " 'Transfer': 4}"
      ]
     },
     "execution_count": 62,
     "metadata": {},
     "output_type": "execute_result"
    }
   ],
   "source": [
    "# Checar o índice de cada coluna antes de reagrupar\n",
    "\n",
    "integer_mapping = {l: i for i, l in enumerate(le_outcome.classes_)}\n",
    "integer_mapping"
   ]
  },
  {
   "cell_type": "code",
   "execution_count": 63,
   "metadata": {},
   "outputs": [],
   "source": [
    "dmatrix_predictions=pd.DataFrame(dmatrix_predictions)\n"
   ]
  },
  {
   "cell_type": "code",
   "execution_count": 64,
   "metadata": {},
   "outputs": [
    {
     "data": {
      "text/html": [
       "<div>\n",
       "<style scoped>\n",
       "    .dataframe tbody tr th:only-of-type {\n",
       "        vertical-align: middle;\n",
       "    }\n",
       "\n",
       "    .dataframe tbody tr th {\n",
       "        vertical-align: top;\n",
       "    }\n",
       "\n",
       "    .dataframe thead th {\n",
       "        text-align: right;\n",
       "    }\n",
       "</style>\n",
       "<table border=\"1\" class=\"dataframe\">\n",
       "  <thead>\n",
       "    <tr style=\"text-align: right;\">\n",
       "      <th></th>\n",
       "      <th>ID</th>\n",
       "      <th>Adoption</th>\n",
       "      <th>Died</th>\n",
       "      <th>Euthanasia</th>\n",
       "      <th>Return_to_owner</th>\n",
       "      <th>Transfer</th>\n",
       "    </tr>\n",
       "  </thead>\n",
       "  <tbody>\n",
       "    <tr>\n",
       "      <th>0</th>\n",
       "      <td>1</td>\n",
       "      <td>0.015836</td>\n",
       "      <td>0.002961</td>\n",
       "      <td>0.049798</td>\n",
       "      <td>0.249910</td>\n",
       "      <td>0.681495</td>\n",
       "    </tr>\n",
       "    <tr>\n",
       "      <th>1</th>\n",
       "      <td>2</td>\n",
       "      <td>0.773430</td>\n",
       "      <td>0.000587</td>\n",
       "      <td>0.013922</td>\n",
       "      <td>0.162146</td>\n",
       "      <td>0.049915</td>\n",
       "    </tr>\n",
       "    <tr>\n",
       "      <th>2</th>\n",
       "      <td>3</td>\n",
       "      <td>0.340761</td>\n",
       "      <td>0.003473</td>\n",
       "      <td>0.013469</td>\n",
       "      <td>0.128682</td>\n",
       "      <td>0.513615</td>\n",
       "    </tr>\n",
       "    <tr>\n",
       "      <th>3</th>\n",
       "      <td>4</td>\n",
       "      <td>0.158596</td>\n",
       "      <td>0.005929</td>\n",
       "      <td>0.044753</td>\n",
       "      <td>0.081666</td>\n",
       "      <td>0.709056</td>\n",
       "    </tr>\n",
       "    <tr>\n",
       "      <th>4</th>\n",
       "      <td>5</td>\n",
       "      <td>0.503258</td>\n",
       "      <td>0.002180</td>\n",
       "      <td>0.008850</td>\n",
       "      <td>0.400571</td>\n",
       "      <td>0.085141</td>\n",
       "    </tr>\n",
       "    <tr>\n",
       "      <th>...</th>\n",
       "      <td>...</td>\n",
       "      <td>...</td>\n",
       "      <td>...</td>\n",
       "      <td>...</td>\n",
       "      <td>...</td>\n",
       "      <td>...</td>\n",
       "    </tr>\n",
       "    <tr>\n",
       "      <th>11451</th>\n",
       "      <td>11452</td>\n",
       "      <td>0.779768</td>\n",
       "      <td>0.001001</td>\n",
       "      <td>0.004277</td>\n",
       "      <td>0.009343</td>\n",
       "      <td>0.205610</td>\n",
       "    </tr>\n",
       "    <tr>\n",
       "      <th>11452</th>\n",
       "      <td>11453</td>\n",
       "      <td>0.000735</td>\n",
       "      <td>0.018902</td>\n",
       "      <td>0.020632</td>\n",
       "      <td>0.003601</td>\n",
       "      <td>0.956129</td>\n",
       "    </tr>\n",
       "    <tr>\n",
       "      <th>11453</th>\n",
       "      <td>11454</td>\n",
       "      <td>0.004451</td>\n",
       "      <td>0.005403</td>\n",
       "      <td>0.046247</td>\n",
       "      <td>0.003116</td>\n",
       "      <td>0.940784</td>\n",
       "    </tr>\n",
       "    <tr>\n",
       "      <th>11454</th>\n",
       "      <td>11455</td>\n",
       "      <td>0.553658</td>\n",
       "      <td>0.001442</td>\n",
       "      <td>0.020239</td>\n",
       "      <td>0.356459</td>\n",
       "      <td>0.068203</td>\n",
       "    </tr>\n",
       "    <tr>\n",
       "      <th>11455</th>\n",
       "      <td>11456</td>\n",
       "      <td>0.067889</td>\n",
       "      <td>0.001716</td>\n",
       "      <td>0.430645</td>\n",
       "      <td>0.353362</td>\n",
       "      <td>0.146388</td>\n",
       "    </tr>\n",
       "  </tbody>\n",
       "</table>\n",
       "<p>11456 rows × 6 columns</p>\n",
       "</div>"
      ],
      "text/plain": [
       "          ID  Adoption      Died  Euthanasia  Return_to_owner  Transfer\n",
       "0          1  0.015836  0.002961    0.049798         0.249910  0.681495\n",
       "1          2  0.773430  0.000587    0.013922         0.162146  0.049915\n",
       "2          3  0.340761  0.003473    0.013469         0.128682  0.513615\n",
       "3          4  0.158596  0.005929    0.044753         0.081666  0.709056\n",
       "4          5  0.503258  0.002180    0.008850         0.400571  0.085141\n",
       "...      ...       ...       ...         ...              ...       ...\n",
       "11451  11452  0.779768  0.001001    0.004277         0.009343  0.205610\n",
       "11452  11453  0.000735  0.018902    0.020632         0.003601  0.956129\n",
       "11453  11454  0.004451  0.005403    0.046247         0.003116  0.940784\n",
       "11454  11455  0.553658  0.001442    0.020239         0.356459  0.068203\n",
       "11455  11456  0.067889  0.001716    0.430645         0.353362  0.146388\n",
       "\n",
       "[11456 rows x 6 columns]"
      ]
     },
     "execution_count": 64,
     "metadata": {},
     "output_type": "execute_result"
    }
   ],
   "source": [
    "# Reagrupar os dados\n",
    "\n",
    "predictions=pd.DataFrame()\n",
    "predictions['ID']=test_data['ID']\n",
    "predictions['Adoption']=dmatrix_predictions[0]\n",
    "predictions['Died']=dmatrix_predictions[1]\n",
    "predictions['Euthanasia']=dmatrix_predictions[2]\n",
    "predictions['Return_to_owner']=dmatrix_predictions[3]\n",
    "predictions['Transfer']=dmatrix_predictions[4]\n",
    "\n",
    "predictions"
   ]
  },
  {
   "cell_type": "code",
   "execution_count": 65,
   "metadata": {},
   "outputs": [],
   "source": [
    "# Exportar o arquivo .csv\n",
    "\n",
    "predictions.to_csv('predictions_dm.csv',index=False)\n"
   ]
  },
  {
   "cell_type": "code",
   "execution_count": null,
   "metadata": {},
   "outputs": [],
   "source": []
  }
 ],
 "metadata": {
  "kernelspec": {
   "display_name": "Python 3",
   "language": "python",
   "name": "python3"
  },
  "language_info": {
   "codemirror_mode": {
    "name": "ipython",
    "version": 3
   },
   "file_extension": ".py",
   "mimetype": "text/x-python",
   "name": "python",
   "nbconvert_exporter": "python",
   "pygments_lexer": "ipython3",
   "version": "3.7.6"
  }
 },
 "nbformat": 4,
 "nbformat_minor": 4
}
